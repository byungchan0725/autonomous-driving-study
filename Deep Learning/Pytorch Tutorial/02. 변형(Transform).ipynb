{
 "cells": [
  {
   "cell_type": "markdown",
   "id": "2386ad9f",
   "metadata": {},
   "source": [
    "머신에게 좋은 데이터가 될려면 최종적으로 `변형`을 해주어야 한다.  \n",
    "\n"
   ]
  },
  {
   "cell_type": "markdown",
   "id": "5f81884f",
   "metadata": {},
   "source": [
    "FashionMNIST 특징은 PIL image 형식이며, 정답은 정수이다.  \n",
    "학습을 하려면 정규화된 텐서 형태의 특정과 원-핫으로 부호화된 텐서 형태의 정답이 필요하다.  \n",
    "이러한 변형을 하기 위해 `ToTensor`과 `Lambda`를 사용한다."
   ]
  },
  {
   "cell_type": "code",
   "execution_count": 5,
   "id": "13a2ee44",
   "metadata": {},
   "outputs": [],
   "source": [
    "import torch \n",
    "from torchvision import datasets \n",
    "from torchvision.transforms import ToTensor, Lambda"
   ]
  },
  {
   "cell_type": "code",
   "execution_count": 7,
   "id": "b0d6d814",
   "metadata": {},
   "outputs": [],
   "source": [
    "ds = datasets.FashionMNIST(\n",
    "    root=\"data\",\n",
    "    train=True,\n",
    "    download=True,\n",
    "    transform=ToTensor(),\n",
    "    target_transform=Lambda(lambda y: torch.zeros(10, dtype=torch.float).scatter_(0, torch.tensor(y), value=1))\n",
    ")"
   ]
  },
  {
   "cell_type": "code",
   "execution_count": 8,
   "id": "85f31346",
   "metadata": {},
   "outputs": [
    {
     "data": {
      "text/plain": [
       "Dataset FashionMNIST\n",
       "    Number of datapoints: 60000\n",
       "    Root location: data\n",
       "    Split: Train\n",
       "    StandardTransform\n",
       "Transform: ToTensor()\n",
       "Target transform: Lambda()"
      ]
     },
     "execution_count": 8,
     "metadata": {},
     "output_type": "execute_result"
    }
   ],
   "source": [
    "# 다운로드 되어있음 "
   ]
  },
  {
   "cell_type": "markdown",
   "id": "fc89b6e9",
   "metadata": {},
   "source": [
    "`Totensor()` : ndarray -> FloatTensor형태로 변환  \n",
    "\n",
    "`Lambda` 변형 : 크기가 10인 0짜리 텐서 생성 -> scatter_를 호출하여 주어진 정답 y 에 해당하는 인덱스에 value=1을 할당한다."
   ]
  }
 ],
 "metadata": {
  "kernelspec": {
   "display_name": "Python 3 (ipykernel)",
   "language": "python",
   "name": "python3"
  },
  "language_info": {
   "codemirror_mode": {
    "name": "ipython",
    "version": 3
   },
   "file_extension": ".py",
   "mimetype": "text/x-python",
   "name": "python",
   "nbconvert_exporter": "python",
   "pygments_lexer": "ipython3",
   "version": "3.9.0"
  }
 },
 "nbformat": 4,
 "nbformat_minor": 5
}
